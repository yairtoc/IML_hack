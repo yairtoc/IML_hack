{
 "cells": [
  {
   "cell_type": "code",
   "execution_count": 35,
   "metadata": {},
   "outputs": [
    {
     "name": "stdout",
     "output_type": "stream",
     "text": [
      "hello world\n"
     ]
    }
   ],
   "source": [
    "print(\"hello world\")"
   ]
  },
  {
   "cell_type": "code",
   "execution_count": 58,
   "metadata": {},
   "outputs": [],
   "source": [
    "# get some libraries that will be useful\n",
    "import re\n",
    "import matplotlib.pyplot as plt\n",
    "import numpy as np # linear algebra\n",
    "import pandas as pd # data processing, CSV file I/O (e.g. pd.read_csv)\n",
    "%matplotlib inline\n",
    "import matplotlib.image as mpimg\n",
    "import stop_words\n",
    "from sklearn.ensemble import AdaBoostClassifier\n",
    "\n",
    "# the Naive Bayes model\n",
    "from sklearn import svm\n",
    "from sklearn.naive_bayes import MultinomialNB\n",
    "# function to split the data for cross-validation\n",
    "from sklearn.model_selection import train_test_split\n",
    "# function for transforming documents into counts\n",
    "from sklearn.feature_extraction.text import CountVectorizer\n",
    "from sklearn.feature_extraction.text import TfidfVectorizer\n",
    "# function for encoding categories\n",
    "from sklearn.preprocessing import LabelEncoder\n",
    "\n",
    "# Outputs the headlines dataset.\n",
    "# X is a list of headlines\n",
    "# y is a list of binary labels, 0 stands for Haaretz and 1 for Israel Hayom\n",
    "def load_dataset(filenames=['haaretz.csv','israelhayom.csv']):\n",
    "    cur_y = 0\n",
    "    X = pd.DataFrame()\n",
    "    y = np.empty(0,dtype=np.int32)\n",
    "    for filename in filenames:\n",
    "        train_cur = pd.read_csv(filename, header=None)\n",
    "        X = pd.concat([X,train_cur[0]])\n",
    "        y = np.append(y,cur_y*np.ones(len(train_cur),dtype=np.int32))\n",
    "        cur_y += 1\n",
    "    X = [x[0] for x in X.values.tolist()]\n",
    "    y = y.tolist()\n",
    "    return X,y\n",
    "\n",
    "# grab the data\n",
    "X,Y = load_dataset()\n"
   ]
  },
  {
   "cell_type": "code",
   "execution_count": 59,
   "metadata": {
    "collapsed": true
   },
   "outputs": [],
   "source": [
    "def normalize_text(s):\n",
    "    s = s.lower()\n",
    "    \n",
    "    # remove punctuation that is not word-internal (e.g., hyphens, apostrophes)\n",
    "    #s = re.sub('\\s\\W',' ',s)\n",
    "   # s = re.sub('\\W\\s',' ',s)\n",
    "    \n",
    "    # make sure we didn't introduce any double spaces\n",
    "    s = re.sub('\\s+',' ',s)\n",
    "    \n",
    "    return s"
   ]
  },
  {
   "cell_type": "code",
   "execution_count": 60,
   "metadata": {
    "collapsed": true
   },
   "outputs": [],
   "source": [
    "X = [normalize_text(s) for s in X]"
   ]
  },
  {
   "cell_type": "code",
   "execution_count": 73,
   "metadata": {},
   "outputs": [
    {
     "name": "stdout",
     "output_type": "stream",
     "text": [
      "y % [ 0.58463591]\n",
      "(6558, 54100)\n",
      "(6558, 54100)\n",
      "(5246, 54100)\n",
      "(5246,)\n",
      "(1312, 54100)\n",
      "(1312,)\n"
     ]
    }
   ],
   "source": [
    "stop_words_list=stop_words.get_stop_words('english')\n",
    "\n",
    "# pull the data into vectors\n",
    "vectorizer = TfidfVectorizer(min_df=2, ngram_range=(1,6), analyzer='char_wb', lowercase=False, strip_accents='unicode', stop_words=stop_words_list)\n",
    "x = vectorizer.fit_transform(X)\n",
    "encoder = LabelEncoder()\n",
    "y = encoder.fit_transform(Y)\n",
    "\n",
    "# split into train and test sets\n",
    "x_train, x_test, y_train, y_test = train_test_split(x, y, test_size=0.2)\n",
    "print(\"y %\", (y_train > 0).sum()/(y_train.shape))\n",
    "# take a look at the shape of each of these\n",
    "print(x.shape)\n",
    "print(x2.shape)\n",
    "print(x_train.shape)\n",
    "print(y_train.shape)\n",
    "print(x_test.shape)\n",
    "print(y_test.shape)"
   ]
  },
  {
   "cell_type": "code",
   "execution_count": 62,
   "metadata": {},
   "outputs": [
    {
     "name": "stdout",
     "output_type": "stream",
     "text": [
      "(6558,)\n"
     ]
    }
   ],
   "source": [
    "print(np.array(X).shape)\n"
   ]
  },
  {
   "cell_type": "code",
   "execution_count": 63,
   "metadata": {},
   "outputs": [
    {
     "name": "stdout",
     "output_type": "stream",
     "text": [
      "svm 0.791920731707\n",
      "naive baise 0.734756097561\n"
     ]
    }
   ],
   "source": [
    "svm = svm.LinearSVC()\n",
    "svm.fit(x_train, y_train)\n",
    "print(\"svm\", nb.score(x_test, y_test))\n",
    "nb = MultinomialNB()\n",
    "nb.fit(x_train, y_train)\n",
    "print(\"naive baise\", nb.score(x_test, y_test))"
   ]
  },
  {
   "cell_type": "code",
   "execution_count": 64,
   "metadata": {},
   "outputs": [
    {
     "name": "stdout",
     "output_type": "stream",
     "text": [
      "Occupation Occupation Occupation :  haaretz\n",
      "west bank :  haaretz\n",
      "right wing :  haaretz\n",
      "sarah :  Israel Hayom\n",
      "Bibi and Yair :  Israel Hayom\n",
      "Israeli IDF iran minister :  Israel Hayom\n"
     ]
    }
   ],
   "source": [
    "try1 = [\"Occupation Occupation Occupation\", \"west bank\", \"right wing\",\"sarah\",\"Bibi and Yair\",\n",
    "                             \"Israeli IDF iran minister\"]\n",
    "\n",
    "test = vectorizer.transform(try1)\n",
    "res= nb.predict(test)\n",
    "\n",
    "for i,cur in enumerate(try1):\n",
    "    tag = \"haaretz\" if res[i] == 0 else \"Israel Hayom\"\n",
    "    print(cur, \": \", tag)\n"
   ]
  },
  {
   "cell_type": "code",
   "execution_count": null,
   "metadata": {
    "collapsed": true
   },
   "outputs": [],
   "source": []
  },
  {
   "cell_type": "code",
   "execution_count": null,
   "metadata": {
    "collapsed": true
   },
   "outputs": [],
   "source": []
  },
  {
   "cell_type": "code",
   "execution_count": null,
   "metadata": {
    "collapsed": true
   },
   "outputs": [],
   "source": []
  }
 ],
 "metadata": {
  "kernelspec": {
   "display_name": "Python 3",
   "language": "python",
   "name": "python3"
  },
  "language_info": {
   "codemirror_mode": {
    "name": "ipython",
    "version": 3
   },
   "file_extension": ".py",
   "mimetype": "text/x-python",
   "name": "python",
   "nbconvert_exporter": "python",
   "pygments_lexer": "ipython3",
   "version": "3.5.2"
  }
 },
 "nbformat": 4,
 "nbformat_minor": 2
}
