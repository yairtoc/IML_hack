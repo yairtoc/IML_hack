{
 "cells": [
  {
   "cell_type": "code",
   "execution_count": 328,
   "metadata": {},
   "outputs": [
    {
     "name": "stdout",
     "output_type": "stream",
     "text": [
      "hello world\n"
     ]
    }
   ],
   "source": [
    "print(\"hello world\")"
   ]
  },
  {
   "cell_type": "code",
   "execution_count": 329,
   "metadata": {
    "collapsed": true
   },
   "outputs": [],
   "source": [
    "# get some libraries that will be useful\n",
    "import re\n",
    "import matplotlib.pyplot as plt\n",
    "import numpy as np # linear algebra\n",
    "import pandas as pd # data processing, CSV file I/O (e.g. pd.read_csv)\n",
    "%matplotlib inline\n",
    "import matplotlib.image as mpimg\n",
    "import stop_words\n",
    "from sklearn.ensemble import AdaBoostClassifier\n",
    "\n",
    "# the Naive Bayes model\n",
    "from sklearn import svm\n",
    "from sklearn.naive_bayes import MultinomialNB\n",
    "# function to split the data for cross-validation\n",
    "from sklearn.model_selection import train_test_split\n",
    "# function for transforming documents into counts\n",
    "from sklearn.feature_extraction.text import CountVectorizer\n",
    "from sklearn.feature_extraction.text import TfidfVectorizer\n",
    "# function for encoding categories\n",
    "from sklearn.preprocessing import LabelEncoder\n",
    "\n",
    "# Outputs the headlines dataset.\n",
    "# X is a list of headlines\n",
    "# y is a list of binary labels, 0 stands for Haaretz and 1 for Israel Hayom\n",
    "def load_dataset(filenames=['haaretz.csv','israelhayom.csv']):\n",
    "    cur_y = 0\n",
    "    X = pd.DataFrame()\n",
    "    y = np.empty(0,dtype=np.int32)\n",
    "    for filename in filenames:\n",
    "        train_cur = pd.read_csv(filename, header=None)\n",
    "        X = pd.concat([X,train_cur[0]])\n",
    "        y = np.append(y,cur_y*np.ones(len(train_cur),dtype=np.int32))\n",
    "        cur_y += 1\n",
    "    X = [x[0] for x in X.values.tolist()]\n",
    "    y = y.tolist()\n",
    "    return X,y\n",
    "\n",
    "# grab the data\n",
    "X,Y = load_dataset()"
   ]
  },
  {
   "cell_type": "code",
   "execution_count": 330,
   "metadata": {
    "collapsed": true
   },
   "outputs": [],
   "source": [
    "def normalize_text(s):\n",
    "    s = s.lower()\n",
    "    \n",
    "    # remove punctuation that is not word-internal (e.g., hyphens, apostrophes)\n",
    "    #s = re.sub('\\s\\W',' ',s)\n",
    "   # s = re.sub('\\W\\s',' ',s)\n",
    "    \n",
    "    # make sure we didn't introduce any double spaces\n",
    "    s = re.sub('\\s+',' ',s)\n",
    "    \n",
    "    return s"
   ]
  },
  {
   "cell_type": "code",
   "execution_count": 331,
   "metadata": {
    "collapsed": true
   },
   "outputs": [],
   "source": [
    "X = [normalize_text(s) for s in X]"
   ]
  },
  {
   "cell_type": "code",
   "execution_count": 346,
   "metadata": {},
   "outputs": [],
   "source": [
    "stop_words_list=stop_words.get_stop_words('english')\n",
    "##stop_words_list=[]\n",
    "\n",
    "\n",
    "# take a look at the shape of each of these\n"
   ]
  },
  {
   "cell_type": "code",
   "execution_count": 347,
   "metadata": {},
   "outputs": [
    {
     "name": "stdout",
     "output_type": "stream",
     "text": [
      "svm 0.853658536585\n"
     ]
    }
   ],
   "source": [
    "#svm \n",
    "# pull the data into vectors\n",
    "#stop_words_list=stop_words.get_stop_words('english')\n",
    "#stop_words_list=[]\n",
    "vectorizer = TfidfVectorizer(min_df=2, ngram_range=(1,6), analyzer='char_wb', lowercase=False, strip_accents='unicode', stop_words=stop_words_list)\n",
    "x = vectorizer.fit_transform(X)\n",
    "encoder = LabelEncoder()\n",
    "y = encoder.fit_transform(Y)\n",
    "\n",
    "# split into train and test sets\n",
    "x_train, x_test, y_train, y_test = train_test_split(x, y, test_size=0.3)\n",
    "#print(\"y %\", (y_train > 0).sum()/(y_train.shape))\n",
    "\n",
    "svm1 = svm.LinearSVC()\n",
    "svm1.fit(x_train, y_train)\n",
    "print(\"svm\", svm1.score(x_test, y_test))"
   ]
  },
  {
   "cell_type": "code",
   "execution_count": 334,
   "metadata": {},
   "outputs": [
    {
     "name": "stdout",
     "output_type": "stream",
     "text": [
      "naive baise 0.749237804878\n",
      "adaboost 0.723323170732\n"
     ]
    }
   ],
   "source": [
    "#nb\n",
    "# pull the data into vectors\n",
    "vectorizer = CountVectorizer(stop_words=stop_words_list)\n",
    "x = vectorizer.fit_transform(X)\n",
    "encoder = LabelEncoder()\n",
    "y = encoder.fit_transform(Y)\n",
    "\n",
    "# split into train and test sets\n",
    "x_train, x_test, y_train, y_test = train_test_split(x, y, test_size=0.2)\n",
    "#print(\"y %\", (y_train > 0).sum()/(y_train.shape))\n",
    "\n",
    "nb = MultinomialNB()\n",
    "nb.fit(x_train, y_train)\n",
    "print(\"naive baise\", nb.score(x_test, y_test))\n",
    "\n",
    "\n",
    "#adaboost\n",
    "ab = AdaBoostClassifier()\n",
    "#ab.estimators_=[svm.LinearSVC()]\n",
    "ab.fit(x_train,y_train)\n",
    "print(\"adaboost\", ab.score(x_test, y_test))"
   ]
  },
  {
   "cell_type": "code",
   "execution_count": 336,
   "metadata": {},
   "outputs": [],
   "source": [
    "#from sklearn.calibration import CalibratedClassifierCV\n",
    "#from sklearn.model_selection import LeaveOneOut\n",
    "\n",
    "#num_classes = 2\n",
    "#X, y = datasets.make_classification(n_samples=100, n_features=20,\n",
    "#                                    n_informative=18, n_redundant=2,\n",
    "#                    n_classes=num_classes)\n",
    "#clf = LinearSVC()\n",
    "#clf_prob = CalibratedClassifierCV(clf, method=\"sigmoid\", cv=LeaveOneOut())\n",
    "#clf_prob.fit(X, y)\n"
   ]
  },
  {
   "cell_type": "code",
   "execution_count": 337,
   "metadata": {},
   "outputs": [
    {
     "name": "stdout",
     "output_type": "stream",
     "text": [
      "Occupation Occupation Occupation :  haaretz\n",
      "west bank :  haaretz\n",
      "right wing :  haaretz\n",
      "sarah :  haaretz\n",
      "Bibi and Yair :  haaretz\n",
      "Israeli IDF iran minister :  Israel Hayom\n"
     ]
    }
   ],
   "source": [
    "try1 = [\"Occupation Occupation Occupation\", \"west bank\", \"right wing\",\"sarah\",\"Bibi and Yair\",\n",
    "                             \"Israeli IDF iran minister\"]\n",
    "\n",
    "test = vectorizer.transform(try1)\n",
    "res= nb.predict(test)\n",
    "\n",
    "for i,cur in enumerate(try1):\n",
    "    tag = \"haaretz\" if res[i] == 0 else \"Israel Hayom\"\n",
    "    print(cur, \": \", tag)\n"
   ]
  },
  {
   "cell_type": "code",
   "execution_count": 338,
   "metadata": {},
   "outputs": [
    {
     "name": "stdout",
     "output_type": "stream",
     "text": [
      "[(array([0, 2, 5]), array([1, 3, 4])), (array([1, 3, 4]), array([0, 2, 5]))]\n"
     ]
    }
   ],
   "source": [
    "z = [1,2,3,4,5,6]\n",
    "from sklearn.model_selection import KFold\n",
    "kf = KFold(n_splits = 2,shuffle=True)\n",
    "kf.get_n_splits(z)\n",
    "print([a for a in kf.split(z)])"
   ]
  },
  {
   "cell_type": "code",
   "execution_count": null,
   "metadata": {
    "collapsed": true
   },
   "outputs": [],
   "source": []
  },
  {
   "cell_type": "code",
   "execution_count": null,
   "metadata": {
    "collapsed": true
   },
   "outputs": [],
   "source": []
  }
 ],
 "metadata": {
  "kernelspec": {
   "display_name": "Python 3",
   "language": "python",
   "name": "python3"
  },
  "language_info": {
   "codemirror_mode": {
    "name": "ipython",
    "version": 3
   },
   "file_extension": ".py",
   "mimetype": "text/x-python",
   "name": "python",
   "nbconvert_exporter": "python",
   "pygments_lexer": "ipython3",
   "version": "3.5.2"
  }
 },
 "nbformat": 4,
 "nbformat_minor": 2
}
